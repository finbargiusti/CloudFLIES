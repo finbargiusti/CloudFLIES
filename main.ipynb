{
 "cells": [
  {
   "cell_type": "code",
   "execution_count": null,
   "metadata": {},
   "outputs": [],
   "source": [
    "import SchemaScraper.SchemaScraper\n",
    "import sqlite3"
   ]
  },
  {
   "cell_type": "code",
   "execution_count": null,
   "metadata": {},
   "outputs": [],
   "source": [
    "def connect_fun(database_name: str) -> Object:\n",
    "\n",
    "  # TODO connect and return object\n",
    "\n",
    "  conn = sqlite3.connect(database_name)\n",
    "\n",
    "  # TODO handle errors\n",
    "\n",
    "  scraper = SchemaScraper(conn)\n",
    "\n",
    "  schema_str = scraper.get_schema(database_name)\n",
    "\n",
    "  return"
   ]
  }
 ],
 "metadata": {
  "language_info": {
   "name": "python"
  },
  "orig_nbformat": 4
 },
 "nbformat": 4,
 "nbformat_minor": 2
}
